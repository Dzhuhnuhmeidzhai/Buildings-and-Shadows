{
 "cells": [
  {
   "cell_type": "code",
   "execution_count": 10,
   "metadata": {},
   "outputs": [],
   "source": [
    "buildings = [(1,11,5), (2,6,7), (3,13,9), (12,7,16), (14,3,25), (19,18,22), (23,13,29),(24,4,28)]"
   ]
  },
  {
   "cell_type": "code",
   "execution_count": 11,
   "metadata": {},
   "outputs": [],
   "source": [
    "edges = []\n",
    "edges.extend([building[0],building[2]] for building in buildings)"
   ]
  },
  {
   "cell_type": "code",
   "execution_count": 12,
   "metadata": {},
   "outputs": [
    {
     "data": {
      "text/plain": [
       "[[1, 5], [2, 7], [3, 9], [12, 16], [14, 25], [19, 22], [23, 29], [24, 28]]"
      ]
     },
     "execution_count": 12,
     "metadata": {},
     "output_type": "execute_result"
    }
   ],
   "source": [
    "edges"
   ]
  },
  {
   "cell_type": "code",
   "execution_count": 13,
   "metadata": {},
   "outputs": [
    {
     "data": {
      "text/plain": [
       "[1, 5, 2, 7, 3, 9, 12, 16, 14, 25, 19, 22, 23, 29, 24, 28]"
      ]
     },
     "execution_count": 13,
     "metadata": {},
     "output_type": "execute_result"
    }
   ],
   "source": [
    "sum(edges,[])"
   ]
  },
  {
   "cell_type": "code",
   "execution_count": 14,
   "metadata": {},
   "outputs": [
    {
     "data": {
      "text/plain": [
       "[1, 2, 3, 5, 7, 9, 12, 14, 16, 19, 22, 23, 24, 25, 28, 29]"
      ]
     },
     "execution_count": 14,
     "metadata": {},
     "output_type": "execute_result"
    }
   ],
   "source": [
    "edges = sorted(sum(edges,[])) #sorting and flatening the list of building edges\n",
    "edges"
   ]
  },
  {
   "cell_type": "code",
   "execution_count": 15,
   "metadata": {},
   "outputs": [
    {
     "name": "stdout",
     "output_type": "stream",
     "text": [
      "1 [(1, 11, 5)]\n",
      "2 [(1, 11, 5), (2, 6, 7)]\n",
      "3 [(1, 11, 5), (2, 6, 7), (3, 13, 9)]\n",
      "5 [(2, 6, 7), (3, 13, 9)]\n",
      "7 [(3, 13, 9)]\n",
      "9 []\n",
      "12 [(12, 7, 16)]\n",
      "14 [(12, 7, 16), (14, 3, 25)]\n",
      "16 [(14, 3, 25)]\n",
      "19 [(14, 3, 25), (19, 18, 22)]\n",
      "22 [(14, 3, 25)]\n",
      "23 [(14, 3, 25), (23, 13, 29)]\n",
      "24 [(14, 3, 25), (23, 13, 29), (24, 4, 28)]\n",
      "25 [(23, 13, 29), (24, 4, 28)]\n",
      "28 [(23, 13, 29)]\n",
      "29 []\n"
     ]
    }
   ],
   "source": [
    "current = 0\n",
    "points = []\n",
    "\n",
    "for i in edges:\n",
    "    active = []\n",
    "    active.extend(building for building in buildings if (building[0] <= i and building[2] > i)) \n",
    "    #current observed point is within borders of these buildings (active buildings)\n",
    "    print(i,active)\n",
    "    if not active: \n",
    "    #if there is no active buildings, highest point is 0\n",
    "        current = 0\n",
    "        points.append((i,0))\n",
    "        continue\n",
    "    max_h = max(building[1] for building in active)\n",
    "    if max_h != current:\n",
    "    #if current highest point is lower then highest point of current active buildings change current highest point\n",
    "        current = max_h\n",
    "        points.append((i,max_h))"
   ]
  },
  {
   "cell_type": "code",
   "execution_count": 16,
   "metadata": {},
   "outputs": [
    {
     "name": "stdout",
     "output_type": "stream",
     "text": [
      "[(1, 11), (3, 13), (9, 0), (12, 7), (16, 3), (19, 18), (22, 3), (23, 13), (29, 0)]\n"
     ]
    }
   ],
   "source": [
    "print(points)"
   ]
  },
  {
   "cell_type": "code",
   "execution_count": null,
   "metadata": {},
   "outputs": [],
   "source": []
  }
 ],
 "metadata": {
  "kernelspec": {
   "display_name": "Python 3",
   "language": "python",
   "name": "python3"
  },
  "language_info": {
   "codemirror_mode": {
    "name": "ipython",
    "version": 3
   },
   "file_extension": ".py",
   "mimetype": "text/x-python",
   "name": "python",
   "nbconvert_exporter": "python",
   "pygments_lexer": "ipython3",
   "version": "3.7.3"
  }
 },
 "nbformat": 4,
 "nbformat_minor": 2
}
